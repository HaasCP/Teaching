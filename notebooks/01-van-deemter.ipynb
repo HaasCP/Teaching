{
 "cells": [
  {
   "cell_type": "code",
   "execution_count": 8,
   "id": "4d3b569a",
   "metadata": {},
   "outputs": [
    {
     "name": "stdout",
     "output_type": "stream",
     "text": [
      "The autoreload extension is already loaded. To reload it, use:\n",
      "  %reload_ext autoreload\n"
     ]
    }
   ],
   "source": [
    "from ipywidgets import interact, FloatSlider, Checkbox, fixed\n",
    "from module01 import van_deemter_plot, van_deemter_particles_plot, plot_chromatograms, draw_chromatography_pencils\n",
    "\n",
    "%load_ext autoreload\n",
    "%autoreload 2"
   ]
  },
  {
   "cell_type": "markdown",
   "id": "e7729e1f",
   "metadata": {},
   "source": [
    "# Van Deemter in Practice: An Interactive Exploration of Chromatographic Efficiency, Flow Rate, and Particle Size\n",
    "\n",
    "Christian P. Haas, September 2025\n",
    "\n",
    "## Overview\n",
    "\n",
    "This notebook turns the van Deemter equation into a hands-on playground. You’ll build intuition for how eddy diffusion (*A*), longitudinal diffusion (*B/u*), and mass transfer (*C·u*) shape plate height *H* as a function of flow rate *u*—and translate that into practical method-design choices for LC (and GC, where noted).\n",
    "\n",
    "## Learning Objectives\n",
    "\n",
    "By the end, you will be able to:\n",
    "\n",
    "* Interpret the *A*, *B/u*, and *C·u* terms and explain how each dominates in different *u*-regimes.\n",
    "* Identify the optimal flow rate *u*<sub>opt</sub> and corresponding *H*<sub>min</sub>, and relate *H* to plate number (*N = L/H*) and resolution (*R*<sub>s</sub>).\n",
    "* Compare particle **size** effects on *A* and *C*, and reason about trade-offs among speed, resolution, and pressure limits.\n",
    "* Make design decisions (e.g., choose *u*, *L*, and particle size) under realistic constraints such as pressure and extra-column broadening.\n",
    "* (Optional) Use reduced plots (*h–ν*) to compare columns and operating conditions on a common scale.\n",
    "\n",
    "## Audience & Prerequisites\n",
    "\n",
    "* **Who:** Students and practitioners in analytical chemistry, chromatography, or method development.\n",
    "* **Assumed knowledge:** Basic LC/GC terminology (*H, N, u, k′, α, R*<sub>s</sub>*).*\n",
    "* **No coding required** to use the interactive widgets; minimal Python familiarity helps only if you modify the notebook.\n",
    "\n",
    "## How to Run\n",
    "\n",
    "* **In the browser:** Launch via Binder or Colab (use the buttons in the repository README).\n",
    "* **Locally:** Use JupyterLab with the provided `requirements.txt` or `environment.yml`; then open the notebook and run all cells.\n",
    "\n",
    "**Estimated time:** 25–40 minutes (core sections); +20 minutes for the optional advanced materials.\n",
    "**Scope:** LC throughout, with GC notes where diffusion/viscosity dominate differently.\n",
    "**License:** Content CC BY 4.0; example code MIT.\n",
    "**Contributions:** Issues and pull requests welcome (see **Contributing** in the repo).\n"
   ]
  },
  {
   "cell_type": "markdown",
   "id": "64ce6e0c",
   "metadata": {},
   "source": [
    "## What are we looking at? Separation quality in a nutshell\n",
    "\n",
    "Chromatographic **separation quality** depends on two big levers:\n",
    "\n",
    "- **Selectivity** *(how different the analytes interact with the column)* — determines **how far apart** the **peak centers** elute (retention/relative retention, often written as $\\alpha$).  \n",
    "- **Efficiency** *(band boradening, how much each band spreads while traveling)* — determines **how wide** each **peak** becomes (linked to plate height $H$; narrower peaks = better).\n",
    "\n",
    "In the sketch below, each column shows two colored bands moving through a column. From left to right, separation improves because either the **selectivity increases** (centers farther apart) and/or the **efficiency** increases (band broadening decreases, peaks narrower). In this notebook we’ll **hold the idea of selectivity in the background** and focus on the second lever: **band broadening** and how the **van Deemter equation** explains it."
   ]
  },
  {
   "cell_type": "code",
   "execution_count": 37,
   "id": "75925c2c",
   "metadata": {},
   "outputs": [
    {
     "data": {
      "image/png": "[encoded data removed]",
      "text/plain": [
       "<Figure size 1000x600 with 1 Axes>"
      ]
     },
     "metadata": {},
     "output_type": "display_data"
    }
   ],
   "source": [
    "draw_chromatography_pencils()"
   ]
  },
  {
   "cell_type": "markdown",
   "id": "89e210ca",
   "metadata": {},
   "source": [
    "\n",
    "\n",
    "*Figure.* Separation quality depends on both **selectivity** (spacing between peak centers) and **efficiency** (band broadening, peak width).  \n",
    "Adapted from [LibreTexts: *Chromatography*](https://chem.libretexts.org/Courses/BethuneCookman_University/BCU%3A_CH-346_Instrumental_Analysis/Chromatography/Chromatography). \n",
    "\n",
    "**Roadmap for the notebook:**  \n",
    "1) Build intuition for **band broadening** via interactive chromatograms.  \n",
    "2) Introduce **van Deemter**: $H(u)=A+\\tfrac{B}{u}+C\\,u$.  \n",
    "3) Explore how each term $A, B/u, C\\,u$ shapes peak width and practical operating points.\n",
    "4) TODO!! Real-world implications -> flow rate does not play a crucial role in HPLC and UPLC method development\n"
   ]
  },
  {
   "cell_type": "markdown",
   "id": "b2bb2089",
   "metadata": {},
   "source": [
    "## Theory — a quick introduction\n",
    "\n",
    "Chromatographic peaks broaden because molecules spread while traveling through the column. The **van Deemter equation** treats this as a budget of broadening mechanisms and predicts how the **plate height** $H$ (axial band variance per unit length) depends on **linear velocity** $u$:\n",
    "\n",
    "$$\n",
    "H(u) \\;=\\; A \\;+\\; \\frac{B}{u} \\;+\\; C\\,u\n",
    "$$\n",
    "\n",
    "- **$A$** — *Eddy diffusion:* different path lengths through a packed bed; ~independent of $u$. Negligible in open-tubular GC.  \n",
    "- **$B/u$** — *Longitudinal diffusion:* axial diffusion; dominates at **low $u$** and scales with the molecular diffusion coefficient.  \n",
    "- **$C\\,u$** — *Mass-transfer resistance:* finite exchange between phases; dominates at **high $u$** (lumped mobile + stationary contributions).\n",
    "\n",
    "From $H$ to peak width (what we see in a chromatogram): for a column of length $L$,\n",
    "$$\n",
    "\\sigma_z^2 \\;=\\; H\\,L, \\qquad \\sigma_t \\;=\\; \\frac{\\sigma_z}{u}.\n",
    "$$\n",
    "Thus, **smaller $H$** $\\Rightarrow$ smaller $\\sigma_t$ $\\Rightarrow$ **sharper peaks**.\n",
    "\n",
    "**What do the $\\sigma$ terms mean?**  \n",
    "- **$\\sigma_z$** is the **spatial (axial) standard deviation** of the solute band *along the column* (length units, e.g., mm). It quantifies how wide the band is in space.  \n",
    "- **$\\sigma_t$** is the **temporal standard deviation** of the peak *at the detector* (time units, e.g., s). Because the band moves at velocity $u$, its time spread is the spatial spread divided by $u$.\n",
    "\n",
    "**Interactive preview — influence of $H$ on chromatograms (and separation quality):**  \n",
    "Below, adjust $H$ (retention times fixed) to compare an *ideal* (very small $H$), a *normal*, and a *poor* (large $H$) case with three peaks each.\n",
    "\n",
    "Here, **resolution** $R_s$ simply is a measure for how well two peaks are separated: a deep valley (ideally down to the baseline) = **high resolution** and higher $R_s$; a shallow valley or overlap = **low resolution** or lower $R_s$.  \n",
    "\n",
    "With column length and flow held constant, **decreasing $H$ narrows the peaks and deepens the valley** (better resolution); increasing $H$ does the opposite.\n"
   ]
  },
  {
   "cell_type": "code",
   "execution_count": 6,
   "id": "aabd2fa8",
   "metadata": {},
   "outputs": [
    {
     "data": {
      "application/vnd.jupyter.widget-view+json": {
       "model_id": "a0977e1e3be74b46be1e7ab8cf36e497",
       "version_major": 2,
       "version_minor": 0
      },
      "text/plain": [
       "interactive(children=(FloatSlider(value=0.05, continuous_update=False, description='H (mm)', max=0.1, min=0.00…"
      ]
     },
     "metadata": {},
     "output_type": "display_data"
    },
    {
     "data": {
      "text/plain": [
       "<function module01.plot_chromatograms(H_normal_mm=0.05, L_mm=150.0, u_mm_s=2.0, spacing_s=20.0, bad_factor=100.0, ideal_scale=0.01, heights_peaks=[0.6, 1.0, 0.8])>"
      ]
     },
     "execution_count": 6,
     "metadata": {},
     "output_type": "execute_result"
    }
   ],
   "source": [
    "interact(\n",
    "    plot_chromatograms,\n",
    "    H_normal_mm=FloatSlider(\n",
    "        description='H (mm)',\n",
    "        value=0.050, min=0.001, max=0.100, step=0.001,\n",
    "        readout_format='.3f', continuous_update=False\n",
    "    ),\n",
    "    L_mm=fixed(150.0),\n",
    "    u_mm_s=fixed(2.0),\n",
    "    spacing_s=fixed(30.0),\n",
    "    bad_factor=fixed(100.0),\n",
    "    ideal_scale=fixed(0.01),\n",
    "    heights_peaks=fixed((0.6, 1, 0.8)),\n",
    ")"
   ]
  },
  {
   "cell_type": "markdown",
   "id": "3b3e3f61",
   "metadata": {},
   "source": [
    "With the link from $H$ to peak width in mind, let’s now ask **what sets $H$ in the first place** and why two of its contributions change with linear velocity $u$. We’ll take the terms one by one, starting with **eddy diffusion $A$**."
   ]
  },
  {
   "cell_type": "markdown",
   "id": "e7bf2098",
   "metadata": {},
   "source": [
    "## Eddy diffusion ($A$): many paths through a packed bed\n",
    "\n",
    "**Idea in one sentence:** in a **packed** column, molecules can take **different path lengths** around particles. Even if they start together, they arrive spread out because some paths are shorter, others longer. This path dispersion contributes a **flow-rate–independent** baseline to band broadening.\n",
    "\n",
    "Real packed beds can develop **channels**—preferential flow pathways caused by voids, wall effects, or local packing defects. Channels shorten some paths and lengthen others, **widening the distribution of path lengths** and thus increasing the $A$ term.\n",
    "\n",
    "![image.png](content/01-eddy-channel.png)\n",
    "\n",
    "Representation of a packed chromatographic column with a channel (arrow). Reproduced from [LibreTexts: *Eddy Diffusion (Multipath) Broadening in Chromatography*](https://chem.libretexts.org/Bookshelves/Analytical_Chemistry/Supplemental_Modules_(Analytical_Chemistry)/Analytical_Sciences_Digital_Library/Courseware/Separation_Science/02_Text/03_Broadening_of_Chromatographic_Peaks/02_Eddy_Diffusion_(Multipath)_Broadening_in_Chromatography).\n",
    "\n",
    "**Key properties**\n",
    "- **Independent of $u$:** the geometric spread of path lengths doesn’t disappear when you drive the flow faster or slower. Hence $A$ is the **flat** part in $H(u) = A + \\tfrac{B}{u} + C\\,u$ (see Figure below).\n",
    "- **Packing quality matters:** more **uniform packing** → fewer extreme paths → **smaller $A$**.\n",
    "- **Particle size dependence:** for packed beds, $A$ scales roughly with **particle diameter** $d_p$,\n",
    "  $$\n",
    "  A \\;\\approx\\; \\lambda\\, d_p,\n",
    "  $$\n",
    "  where $\\lambda$ (≈ 1–2 in many texts) captures packing heterogeneity.\n",
    "- **Where $A$ vanishes:** in **open-tubular GC** (no packing, only a thin film), there are no alternate paths → $A \\approx 0$.\n",
    "\n",
    "**What increases $A$**\n",
    "- Poor packing or **voids/channels**; **wall effects** at the tube boundary.\n",
    "- Large or **nonuniform particle sizes**; damaged frits; vibration during operation.\n",
    "\n",
    "**What decreases $A$**\n",
    "- **Smaller $d_p$** (e.g., HPLC → UHPLC); **narrow particle size distribution**.\n",
    "- Careful slurry packing; good frits; avoiding bed disturbances.\n",
    "\n",
    "**Rule of thumb for method design**\n",
    "- You cannot tune $A$ by changing flow during a run; you **choose** $A$ through **hardware and column** decisions (particle size/quality, packing). Once the column is installed and equilibrated, $A$ is essentially fixed.\n",
    "\n",
    "*Next:* we’ll see why **longitudinal diffusion** ($\\tfrac{B}{u}$) **decreases** with increasing flow (molecules have less time to diffuse), and why **mass-transfer resistance** ($C\\,u$) **increases** with flow (less time to equilibrate between phases).\n"
   ]
  },
  {
   "cell_type": "code",
   "execution_count": null,
   "id": "612c186e",
   "metadata": {},
   "outputs": [],
   "source": []
  },
  {
   "cell_type": "code",
   "execution_count": null,
   "id": "76fe0255",
   "metadata": {},
   "outputs": [],
   "source": []
  },
  {
   "cell_type": "code",
   "execution_count": null,
   "id": "e4b9b6fd",
   "metadata": {},
   "outputs": [],
   "source": []
  },
  {
   "cell_type": "markdown",
   "id": "2cd3efd9",
   "metadata": {},
   "source": [
    "With the link from $H$ to peak width in mind, the next question is: **how does $H$ change with flow?**\n",
    "\n",
    "The van Deemter prediction $H(u)=A+\\tfrac{B}{u}+C\\,u$ is **U-shaped**, so there is a practical sweet spot where total broadening is minimal:\n",
    "\n",
    "$$\n",
    "u_{\\text{opt}} \\;=\\; \\sqrt{\\frac{B}{C}}, \n",
    "\\qquad \n",
    "H_{\\min} \\;=\\; A \\;+\\; 2\\sqrt{BC}.\n",
    "$$\n",
    "\n",
    "**Why this matters in practice**\n",
    "- **Efficiency:** Plate number $N=L/H$ — smaller $H$ means more plates and **sharper peaks** for a given column length $L$.  \n",
    "- **Resolution:** At fixed selectivity and retention, **lower $H$** generally **improves $R_s$**.  \n",
    "- **Design levers:** **Particle size** and packing quality influence $A$ and $C$; **diffusion**, temperature, and solvent affect $B$. **Hardware limits** (pressure, extra-column effects) may shift the usable operating point away from $u_{\\text{opt}}$.\n",
    "\n",
    "**Scope & caveats**\n",
    "- We use the classical **lumped-parameter** form for clarity. Advanced models split $C$ into mobile/stationary terms and use **reduced variables** $h=H/d_p$, $\\nu = u\\,d_p/D_m$ for cross-column comparisons; we introduce these later where helpful.  \n",
    "- **Extra-column broadening** is not part of the van Deemter equation but is crucial in real instruments; we treat it separately.\n",
    "\n",
    "### Van Deemter — interactive visualization\n",
    "\n",
    "Use the sliders to explore how **$A$**, **$B/u$**, and **$C\\,u$** shape the plate-height curve $H(u)=A+\\frac{B}{u}+C\\,u$.\n",
    "\n",
    "- The **shaded background** shows where each term **dominates** (largest contributor to $H$ at that $u$).  \n",
    "- Dashed lines show the three terms; the solid line is the **total** $H(u)$.  \n",
    "- The vertical dotted line marks $u_{\\mathrm{opt}}=\\sqrt{B/C}$; the marker shows $H_{\\min}=A+2\\sqrt{BC}$.\n",
    "\n",
    "*Units are pedagogical; the qualitative LC/GC trends remain the same.*"
   ]
  },
  {
   "cell_type": "code",
   "execution_count": 7,
   "id": "6a5cbd2f",
   "metadata": {},
   "outputs": [
    {
     "data": {
      "application/vnd.jupyter.widget-view+json": {
       "model_id": "35aefdadd51a4f0f9a1da88d366bcb3b",
       "version_major": 2,
       "version_minor": 0
      },
      "text/plain": [
       "interactive(children=(FloatSlider(value=5.0, description='A', max=15.0, min=-5.0), FloatSlider(value=1.0, desc…"
      ]
     },
     "metadata": {},
     "output_type": "display_data"
    },
    {
     "data": {
      "text/plain": [
       "<function module01.van_deemter_plot(A=5.0, B=1.0, C=5.0, u_min=0.05, u_max=3.0, show_terms=True)>"
      ]
     },
     "execution_count": 7,
     "metadata": {},
     "output_type": "execute_result"
    }
   ],
   "source": [
    "interact(\n",
    "    van_deemter_plot,\n",
    "    u_min=FloatSlider(description='x-Axis min', value=0.05, min=0.01, max=1.0, step=0.01, readout_format='.2f'),\n",
    "    u_max=FloatSlider(description='x-Axis max', value=3.0, min=1.5, max=5.0, step=0.1, readout_format='.1f'),\n",
    "    show_terms=Checkbox(description='Show individual terms', value=True),\n",
    ")"
   ]
  },
  {
   "cell_type": "code",
   "execution_count": 4,
   "id": "177b3af5",
   "metadata": {},
   "outputs": [
    {
     "data": {
      "application/vnd.jupyter.widget-view+json": {
       "model_id": "16ab77877ad54d09b97ddb74e88ea9e4",
       "version_major": 2,
       "version_minor": 0
      },
      "text/plain": [
       "interactive(children=(FloatSlider(value=5.0, description='A0', max=15.0, min=-5.0), FloatSlider(value=1.0, des…"
      ]
     },
     "metadata": {},
     "output_type": "display_data"
    },
    {
     "data": {
      "text/plain": [
       "<function module01.van_deemter_particles_plot(A0=5.0, B0=1.0, C0=5.0, u_min=0.05, u_max=3.0, show_opt=True)>"
      ]
     },
     "execution_count": 4,
     "metadata": {},
     "output_type": "execute_result"
    }
   ],
   "source": [
    "interact(\n",
    "    van_deemter_particles_plot,\n",
    "    u_min=FloatSlider(description='x-Axis min', value=0.05, min=0.01, max=1.0, step=0.01, readout_format='.2f'),\n",
    "    u_max=FloatSlider(description='x-Axis max', value=3.0,  min=1.5,  max=5.0, step=0.1,  readout_format='.1f'),\n",
    "    show_opt=Checkbox(description='Show optima', value=True),\n",
    ")"
   ]
  },
  {
   "cell_type": "code",
   "execution_count": null,
   "id": "20b870d5",
   "metadata": {},
   "outputs": [],
   "source": []
  },
  {
   "cell_type": "code",
   "execution_count": null,
   "id": "b5acc147",
   "metadata": {},
   "outputs": [],
   "source": []
  }
 ],
 "metadata": {
  "kernelspec": {
   "display_name": "Teaching",
   "language": "python",
   "name": "python3"
  },
  "language_info": {
   "codemirror_mode": {
    "name": "ipython",
    "version": 3
   },
   "file_extension": ".py",
   "mimetype": "text/x-python",
   "name": "python",
   "nbconvert_exporter": "python",
   "pygments_lexer": "ipython3",
   "version": "3.13.5"
  }
 },
 "nbformat": 4,
 "nbformat_minor": 5
}
