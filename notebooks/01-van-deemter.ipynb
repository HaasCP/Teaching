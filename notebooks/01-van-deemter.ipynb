{
 "cells": [
  {
   "cell_type": "markdown",
   "id": "e7729e1f",
   "metadata": {},
   "source": [
    "# Van Deemter in Practice: An Interactive Exploration of Chromatographic Efficiency, Flow Rate, and Particle Size\n",
    "\n",
    "Christian P. Haas, September 2025\n",
    "\n",
    "## Overview\n",
    "\n",
    "This notebook turns the van Deemter equation into a hands-on playground. You’ll build intuition for how eddy diffusion (*A*), longitudinal diffusion (*B/u*), and mass transfer (*C·u*) shape plate height *H* as a function of flow rate *u*—and translate that into practical method-design choices for LC (and GC, where noted).\n",
    "\n",
    "## Learning Objectives\n",
    "\n",
    "By the end, you will be able to:\n",
    "\n",
    "* Interpret the *A*, *B/u*, and *C·u* terms and explain how each dominates in different *u*-regimes.\n",
    "* Identify the optimal flow rate *u*<sub>opt</sub> and corresponding *H*<sub>min</sub>, and relate *H* to plate number (*N = L/H*) and resolution (*R*<sub>s</sub>).\n",
    "* Compare particle **size** effects on *A* and *C*, and reason about trade-offs among speed, resolution, and pressure limits.\n",
    "* Make design decisions (e.g., choose *u*, *L*, and particle size) under realistic constraints such as pressure and extra-column broadening.\n",
    "* (Optional) Use reduced plots (*h–ν*) to compare columns and operating conditions on a common scale.\n",
    "\n",
    "## Audience & Prerequisites\n",
    "\n",
    "* **Who:** Students and practitioners in analytical chemistry, chromatography, or method development.\n",
    "* **Assumed knowledge:** Basic LC/GC terminology (*H, N, u, k′, α, R*<sub>s</sub>*).*\n",
    "* **No coding required** to use the interactive widgets; minimal Python familiarity helps only if you modify the notebook.\n",
    "\n",
    "## How to Run\n",
    "\n",
    "* **In the browser:** Launch via Binder or Colab (use the buttons in the repository README).\n",
    "* **Locally:** Use JupyterLab with the provided `requirements.txt` or `environment.yml`; then open the notebook and run all cells.\n",
    "\n",
    "**Estimated time:** 25–40 minutes (core sections); +20 minutes for the optional advanced materials.\n",
    "**Scope:** LC throughout, with GC notes where diffusion/viscosity dominate differently.\n",
    "**License:** Content CC BY 4.0; example code MIT.\n",
    "**Contributions:** Issues and pull requests welcome (see **Contributing** in the repo).\n"
   ]
  },
  {
   "cell_type": "markdown",
   "id": "bb9562c1",
   "metadata": {
    "vscode": {
     "languageId": "plaintext"
    }
   },
   "source": [
    "## Theory — a quick introduction\n",
    "\n",
    "Chromatographic peaks broaden because molecules spread while traveling through the column. The **van Deemter equation** treats this as a simple “budget” of broadening mechanisms and predicts how the **plate height** $H$ (band variance per unit length) depends on **flow rate / linear velocity** $u$:\n",
    "\n",
    "$$\n",
    "H(u) \\;=\\; A \\;+\\; \\frac{B}{u} \\;+\\; C\\,u\n",
    "$$\n",
    "\n",
    "* **$A$** — *Eddy diffusion*: different path lengths through a packed bed (≈ constant with $u$). Negligible in open-tubular GC (no packing).\n",
    "* **$B/u$** — *Longitudinal diffusion*: molecules diffuse along the column axis; strongest at **low $u$**, scales with the molecular diffusion coefficient.\n",
    "* **$C\\,u$** — *Mass-transfer resistance*: analyte lags behind equilibrium between phases; dominates at **high $u$**. Often viewed as lumped contributions from mobile and stationary phases.\n",
    "\n",
    "The curve $H(u)$ is **U-shaped**. There is a practical sweet spot where total broadening is minimal:\n",
    "\n",
    "$$\n",
    "u_{\\text{opt}} \\;=\\; \\sqrt{\\tfrac{B}{C}}, \\qquad H_{\\min} \\;=\\; A \\;+\\; 2\\sqrt{BC}.\n",
    "$$\n",
    "\n",
    "Why this matters:\n",
    "\n",
    "* **Efficiency**: $N = L/H$ (more plates ↔ sharper peaks) for a column of length $L$.\n",
    "* **Resolution**: better efficiency (smaller $H$) generally improves $R_s$ at fixed selectivity and retention.\n",
    "* **Design levers**: **particle size** and packing quality influence $A$ and $C$; **diffusion coefficients**, temperature, and solvent affect $B$. Hardware limits (pressure, extra-column effects) can shift the practical operating point away from $u_{\\text{opt}}$.\n",
    "\n",
    "Scope notes:\n",
    "\n",
    "* We use the classical, **lumped-parameter** form for clarity. Advanced models split $C$ into mobile/stationary terms and use **reduced variables** $h=H/d_p$, $\\nu = u\\,d_p/D_m$ to compare columns; those appear later where helpful.\n",
    "* Extra-column broadening isn’t part of van Deemter but is critical in real instruments and will be treated separately.\n"
   ]
  },
  {
   "cell_type": "markdown",
   "id": "ee785bc2",
   "metadata": {},
   "source": [
    "### Van Deemter — interactive visualization\n",
    "\n",
    "Use the sliders to explore how **A**, **B/u**, and **C·u** shape the plate-height curve \\(H(u)=A+\\frac{B}{u}+C\\,u\\).\n",
    "\n",
    "- The **shaded background** indicates where each term **dominates** (largest contributor to \\(H\\) at that \\(u\\)).  \n",
    "- Dashed lines show the three terms; the solid line is the **total** \\(H(u)\\).  \n",
    "- The vertical dotted line marks \\(u_{\\mathrm{opt}}=\\sqrt{B/C}\\); the marker shows \\(H_{\\min}=A+2\\sqrt{BC}\\).\n",
    "\n",
    "*Units are arbitrary for pedagogy; typical LC/GC trends still hold.*\n"
   ]
  },
  {
   "cell_type": "code",
   "execution_count": null,
   "id": "6a5cbd2f",
   "metadata": {},
   "outputs": [
    {
     "data": {
      "application/vnd.jupyter.widget-view+json": {
       "model_id": "8f090a61829f4255a1e2c6139da4620f",
       "version_major": 2,
       "version_minor": 0
      },
      "text/plain": [
       "interactive(children=(FloatSlider(value=3.0, description='A', max=5.0, step=0.05), FloatSlider(value=1.0, desc…"
      ]
     },
     "metadata": {},
     "output_type": "display_data"
    },
    {
     "data": {
      "text/plain": [
       "<function __main__.van_deemter_plot(A=2.0, B=1.0, C=0.5, u_min=0.05, u_max=3.0, show_terms=True)>"
      ]
     },
     "execution_count": 6,
     "metadata": {},
     "output_type": "execute_result"
    }
   ],
   "source": [
    "import numpy as np\n",
    "import matplotlib.pyplot as plt\n",
    "from ipywidgets import interact, FloatSlider, Checkbox\n",
    "\n",
    "def van_deemter_plot(A=2.0, B=1.0, C=0.5, u_min=0.05, u_max=3.0, show_terms=True):\n",
    "    \"\"\"\n",
    "    Plot H(u) = A + B/u + C*u and indicate dominance regions for A, B/u, and C*u.\n",
    "    Parameters are in arbitrary units; u is linear velocity.\n",
    "    \"\"\"\n",
    "    # guard rails\n",
    "    u_min = max(1e-3, float(u_min))\n",
    "    u_max = max(u_min + 1e-3, float(u_max))\n",
    "    A = float(A)\n",
    "    B = float(B)\n",
    "    C = float(C)\n",
    "\n",
    "    # domain\n",
    "    n = 900\n",
    "    u = np.linspace(u_min, u_max, n)\n",
    "\n",
    "    # components and total\n",
    "    A_arr = A * np.ones_like(u)\n",
    "    # avoid division warnings by ensuring u_min > 0 (handled above)\n",
    "    B_arr = B / u\n",
    "    C_arr = C * u\n",
    "    H = A_arr + B_arr + C_arr\n",
    "\n",
    "    # optimum (only meaningful for B>=0 and C>0)\n",
    "    u_opt = np.sqrt(B / C) if (B > 0 and C > 0) else np.nan\n",
    "    H_min = A + 2.0 * np.sqrt(B * C) if (B >= 0 and C >= 0) else np.nan\n",
    "\n",
    "    # figure\n",
    "    fig, ax = plt.subplots(figsize=(7.2, 4.6))\n",
    "\n",
    "    # total curve\n",
    "    ax.plot(u, H, linewidth=2.2, label='H(u) = A + B/u + C·u')\n",
    "\n",
    "    # optional component curves (dashed)\n",
    "    if show_terms:\n",
    "        ax.plot(u, A_arr, linestyle='--', linewidth=1.4, label='A (eddy diffusion)')\n",
    "        ax.plot(u, B_arr, linestyle='--', linewidth=1.4, label='B/u (longitudinal diffusion)')\n",
    "        ax.plot(u, C_arr, linestyle='--', linewidth=1.4, label='C·u (mass transfer)')\n",
    "\n",
    "    # dominance shading: find where each component is the largest contributor\n",
    "    comps = np.vstack([A_arr, B_arr, C_arr])           # shape: (3, n)\n",
    "    dom = np.argmax(comps, axis=0)                     # 0:A, 1:B/u, 2:C·u\n",
    "\n",
    "    # segment the domain where dominance label stays constant\n",
    "    idx = np.flatnonzero(np.r_[True, np.diff(dom) != 0, True])\n",
    "    colors = ['C0', 'C1', 'C2']                        # match matplotlib default cycle for A, B/u, C·u\n",
    "    labels = ['A-dominated', 'B/u-dominated', 'C·u-dominated']\n",
    "    seen = set()\n",
    "    for i0, i1 in zip(idx[:-1], idx[1:]):\n",
    "        d = dom[i0]\n",
    "        # light shading matching the corresponding line color\n",
    "        label = labels[d] if d not in seen else None\n",
    "        ax.axvspan(u[i0], u[i1-1], color=colors[d], alpha=0.08, label=label)\n",
    "        seen.add(d)\n",
    "\n",
    "    # mark u_opt and H_min if inside range\n",
    "    if np.isfinite(u_opt) and (u_min <= u_opt <= u_max) and np.isfinite(H_min):\n",
    "        ax.axvline(u_opt, linestyle=':', linewidth=1.6)\n",
    "        ax.plot([u_opt], [H_min], marker='o', markersize=5)\n",
    "        ax.annotate(r'$u_{\\mathrm{opt}}$', xy=(u_opt, H_min),\n",
    "                    xytext=(6, 8), textcoords='offset points')\n",
    "\n",
    "    # axes & legend\n",
    "    ax.set_xlabel('Linear velocity, u (arb. units)')\n",
    "    ax.set_ylabel('Plate height, H (arb. units)')\n",
    "    ax.set_title('van Deemter curve with dominance regions')\n",
    "    ax.grid(True, alpha=0.3)\n",
    "\n",
    "    # compact legend\n",
    "    ax.legend(loc='center left', bbox_to_anchor=(1.02, 0.5), frameon=False)\n",
    "    plt.show()\n",
    "\n",
    "# Interactive controls\n",
    "interact(\n",
    "    van_deemter_plot,\n",
    "    A=FloatSlider(description='A', value=3.0, min=0.0, max=5.0, step=0.05, readout_format='.2f'),\n",
    "    B=FloatSlider(description='B', value=1.0, min=0.0, max=5.0, step=0.05, readout_format='.2f'),\n",
    "    C=FloatSlider(description='C', value=3.0, min=0.0, max=5.0, step=0.01, readout_format='.2f'),\n",
    "    u_min=FloatSlider(description='u_min', value=0.05, min=0.01, max=1.0, step=0.01, readout_format='.2f'),\n",
    "    u_max=FloatSlider(description='u_max', value=3.0, min=1.5, max=5.0, step=0.1, readout_format='.1f'),\n",
    "    show_terms=Checkbox(description='Show A/B/u/C terms', value=True),\n",
    ")\n"
   ]
  },
  {
   "cell_type": "code",
   "execution_count": null,
   "id": "177b3af5",
   "metadata": {},
   "outputs": [],
   "source": []
  }
 ],
 "metadata": {
  "kernelspec": {
   "display_name": "Teaching",
   "language": "python",
   "name": "python3"
  },
  "language_info": {
   "codemirror_mode": {
    "name": "ipython",
    "version": 3
   },
   "file_extension": ".py",
   "mimetype": "text/x-python",
   "name": "python",
   "nbconvert_exporter": "python",
   "pygments_lexer": "ipython3",
   "version": "3.13.5"
  }
 },
 "nbformat": 4,
 "nbformat_minor": 5
}
