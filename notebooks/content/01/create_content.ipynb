{
 "cells": [
  {
   "cell_type": "code",
   "execution_count": 3,
   "id": "309c570c",
   "metadata": {},
   "outputs": [],
   "source": [
    "# from module01 import van_deemter_plot\n",
    "# fig, ax = van_deemter_plot()\n",
    "# fig.savefig(\"01-van-deemter.png\", dpi=150)"
   ]
  },
  {
   "cell_type": "code",
   "execution_count": null,
   "id": "d681b8cc",
   "metadata": {},
   "outputs": [],
   "source": [
    "# from module01 import van_deemter_particles_plot\n",
    "# fig, ax = van_deemter_particles_plot()\n",
    "# fig.savefig(\"01-van-deemter-dp.png\", dpi=150)"
   ]
  },
  {
   "cell_type": "code",
   "execution_count": 2,
   "id": "b59f9c51",
   "metadata": {},
   "outputs": [],
   "source": [
    "# from module01 import plot_chromatograms\n",
    "# fig, axes = plot_chromatograms()\n",
    "# fig.savefig(\"01-chromatograms.png\", dpi=150)"
   ]
  },
  {
   "cell_type": "code",
   "execution_count": null,
   "id": "8dd67118",
   "metadata": {},
   "outputs": [],
   "source": [
    "# from module01 import draw_chromatography_pencils\n",
    "# fig, ax = draw_chromatography_pencils()\n",
    "# fig.savefig(\"01-chrom-pencils.png\", dpi=150)"
   ]
  },
  {
   "cell_type": "code",
   "execution_count": 4,
   "id": "c256368f",
   "metadata": {},
   "outputs": [],
   "source": [
    "# from module01 import make_brownian_gif\n",
    "# make_brownian_gif(path=\"01-brownian-spread-low-D.gif\", D_mm2_s=1.0e-3, title=r\"Low $D_m$\")\n",
    "# make_brownian_gif(path=\"01-brownian-spread-high-D.gif\", D_mm2_s=1.0e-2, title=r\"High $D_m$\")"
   ]
  },
  {
   "cell_type": "code",
   "execution_count": null,
   "id": "c4c95941",
   "metadata": {},
   "outputs": [],
   "source": [
    "# from module01 import make_ldiffusion_gif\n",
    "# make_ldiffusion_gif(u_mm_s=2.0, D_mm2_s=1.0e-3, path=\"01-bterm-travel-high-u-low-D.gif\", title=r\"High $u$, low $D_m$\")\n",
    "# make_ldiffusion_gif(u_mm_s=0.5, D_mm2_s=1.0e-3, path=\"01-bterm-travel-low-u-low-D.gif\", title=r\"Low $u$, low $D_m$\")\n",
    "# make_ldiffusion_gif(u_mm_s=0.5, D_mm2_s=1.0e-2, path=\"01-bterm-travel-low-u-high-D.gif\", title=r\"Low $u$, high $D_m$\")\n",
    "# make_ldiffusion_gif(u_mm_s=2.0, D_mm2_s=1.0e-2, path=\"01-bterm-travel-high-u-high-D.gif\", title=r\"High $u$, high $D_m$\")"
   ]
  },
  {
   "cell_type": "code",
   "execution_count": null,
   "id": "7de3a19c",
   "metadata": {},
   "outputs": [],
   "source": [
    "# fig, ax = draw_profiles()\n",
    "# add_flow(ax)  # defaults match your original\n",
    "# fig.savefig(\"01-cterm-0.png\", dpi=150)"
   ]
  },
  {
   "cell_type": "code",
   "execution_count": null,
   "id": "b562a615",
   "metadata": {},
   "outputs": [],
   "source": [
    "# fig, ax = draw_profiles(mu_top=0.75)\n",
    "# add_diffusion(ax, arrow_kw=dict(width=0.02, head_width=0.16, head_length=0.08,\n",
    "#                                 length_includes_head=True, fc=\"C1\", ec=\"C1\", clip_on=True))\n",
    "# fig.savefig(\"01-cterm-1.png\", dpi=150)"
   ]
  },
  {
   "cell_type": "code",
   "execution_count": null,
   "id": "de66e16c",
   "metadata": {},
   "outputs": [],
   "source": [
    "# fig, ax = draw_profiles(sigma_L=0.85, sigma_R=0.55, mu_top=0.75)\n",
    "# add_diffusion(ax, arrow_kw=dict(width=0.02, head_width=0.16, head_length=0.08,\n",
    "#                                 length_includes_head=True, fc=\"C1\", ec=\"C1\", clip_on=True))\n",
    "# fig.savefig(\"01-cterm-2.png\", dpi=150)"
   ]
  },
  {
   "cell_type": "code",
   "execution_count": null,
   "id": "d141f5b2",
   "metadata": {},
   "outputs": [],
   "source": [
    "# fig, ax = draw_profiles(sigma_L=0.85, sigma_R=0.85, mu_top=0.75, mu_bot=0.75)\n",
    "# fig.savefig(\"01-cterm-3.png\", dpi=150)"
   ]
  }
 ],
 "metadata": {
  "kernelspec": {
   "display_name": "Teaching",
   "language": "python",
   "name": "python3"
  },
  "language_info": {
   "codemirror_mode": {
    "name": "ipython",
    "version": 3
   },
   "file_extension": ".py",
   "mimetype": "text/x-python",
   "name": "python",
   "nbconvert_exporter": "python",
   "pygments_lexer": "ipython3",
   "version": "3.13.5"
  }
 },
 "nbformat": 4,
 "nbformat_minor": 5
}
