{
 "cells": [
  {
   "cell_type": "markdown",
   "id": "e7729e1f",
   "metadata": {},
   "source": [
    "# Van Deemter in Practice: An Interactive Exploration of Chromatographic Efficiency, Flow Rate, and Particle Size\n",
    "\n",
    "Christian P. Haas, September 2025\n",
    "\n",
    "## Overview\n",
    "\n",
    "This notebook turns the van Deemter equation into a hands-on playground. You’ll build intuition for how eddy diffusion (*A*), longitudinal diffusion (*B/u*), and mass transfer (*C·u*) shape plate height *H* as a function of flow rate *u*—and translate that into practical method-design choices for LC (and GC, where noted).\n",
    "\n",
    "## Learning Objectives\n",
    "\n",
    "By the end, you will be able to:\n",
    "\n",
    "* Interpret the *A*, *B/u*, and *C·u* terms and explain how each dominates in different *u*-regimes.\n",
    "* Identify the optimal flow rate *u*<sub>opt</sub> and corresponding *H*<sub>min</sub>, and relate *H* to plate number (*N = L/H*) and resolution (*R*<sub>s</sub>).\n",
    "* Compare particle **size** effects on *A* and *C*, and reason about trade-offs among speed, resolution, and pressure limits.\n",
    "* Make design decisions (e.g., choose *u*, *L*, and particle size) under realistic constraints such as pressure and extra-column broadening.\n",
    "* (Optional) Use reduced plots (*h–ν*) to compare columns and operating conditions on a common scale.\n",
    "\n",
    "## Audience & Prerequisites\n",
    "\n",
    "* **Who:** Students and practitioners in analytical chemistry, chromatography, or method development.\n",
    "* **Assumed knowledge:** Basic LC/GC terminology (*H, N, u, k′, α, R*<sub>s</sub>*).*\n",
    "* **No coding required** to use the interactive widgets; minimal Python familiarity helps only if you modify the notebook.\n",
    "\n",
    "## How to Run\n",
    "\n",
    "* **In the browser:** Launch via Binder or Colab (use the buttons in the repository README).\n",
    "* **Locally:** Use JupyterLab with the provided `requirements.txt` or `environment.yml`; then open the notebook and run all cells.\n",
    "\n",
    "**Estimated time:** 25–40 minutes (core sections); +20 minutes for the optional advanced materials.\n",
    "**Scope:** LC throughout, with GC notes where diffusion/viscosity dominate differently.\n",
    "**License:** Content CC BY 4.0; example code MIT.\n",
    "**Contributions:** Issues and pull requests welcome (see **Contributing** in the repo).\n"
   ]
  },
  {
   "cell_type": "code",
   "execution_count": null,
   "id": "bb9562c1",
   "metadata": {
    "vscode": {
     "languageId": "plaintext"
    }
   },
   "outputs": [],
   "source": []
  },
  {
   "cell_type": "markdown",
   "id": "ee785bc2",
   "metadata": {},
   "source": []
  }
 ],
 "metadata": {
  "language_info": {
   "name": "python"
  }
 },
 "nbformat": 4,
 "nbformat_minor": 5
}
